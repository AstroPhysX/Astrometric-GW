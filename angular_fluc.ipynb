{
 "cells": [
  {
   "cell_type": "code",
   "execution_count": 18,
   "metadata": {},
   "outputs": [],
   "source": [
    "import numpy as np\n",
    "import sympy as sp"
   ]
  },
  {
   "cell_type": "code",
   "execution_count": 19,
   "metadata": {},
   "outputs": [],
   "source": [
    "def angular_fluc(Omega_gw, gE,gB, frequency, HubbleConstant):\n",
    "    H=HubbleConstant/3.08567758128e+19\n",
    "    print(\"Hubble Constant in 1/s:\", H)\n",
    "    f=sp.Symbol('f')\n",
    "    \n",
    "    alpha = np.array([0.833333, 0.116667, 0.03, 0.0104762, 0.00442177, 0.00212585, 0.00112434, 0.000639731, 0.000385675, 0.000243696])\n",
    "    \n",
    "    def sigma(freq): #Defining sigma or the power distro in frequency f\n",
    "        integral=sp.integrate((f**-3) * Omega_gw(f),f)\n",
    "        sigma_val=(Omega_gw(freq) * freq**-2) * (integral.subs(f,freq))**-1\n",
    "        print(\"Sigma:\", sigma_val)\n",
    "        return float(sigma_val)\n",
    "        \n",
    "    \n",
    "    def theta_rms(freq): #Defining theta RMS which is the total power in angular fluctuations\n",
    "        integral=sp.integrate((f**-3)*(H**2 * Omega_gw(f)),f)\n",
    "        theta_rms_square=float(((4 * np.pi**2)**-1) * integral.subs(f,freq))\n",
    "        print(\"Theta rms:\", np.sqrt(theta_rms_square))\n",
    "        return np.sqrt(theta_rms_square)\n",
    "    \n",
    "    #Calculating the numerical value for sigma and theta_rms given the frequency\n",
    "    sigma_val=sigma(frequency)\n",
    "    theta_rms_val=theta_rms(frequency)\n",
    "    \n",
    "    theta_E=np.sqrt(theta_rms_val**2 * gE * sigma_val * alpha)\n",
    "    theta_B=np.sqrt(theta_rms_val**2 * gB * sigma_val * alpha)\n",
    "    return theta_E , theta_B"
   ]
  },
  {
   "cell_type": "code",
   "execution_count": 20,
   "metadata": {},
   "outputs": [
    {
     "name": "stdout",
     "output_type": "stream",
     "text": [
      "Hubble Constant in 1/s: 2.2685455027664497e-18\n",
      "Sigma: 3.00000000000000\n",
      "Theta rms: 6.591845185977466e-36\n"
     ]
    },
    {
     "data": {
      "text/plain": [
       "(array([7.36990549e-36, 2.75757062e-36, 1.39834153e-36, 8.26331901e-37,\n",
       "        5.36847213e-37, 3.72236484e-37, 2.70708230e-37, 2.04197926e-37,\n",
       "        1.58548951e-37, 1.26030839e-37]),\n",
       " array([7.36990549e-36, 2.75757062e-36, 1.39834153e-36, 8.26331901e-37,\n",
       "        5.36847213e-37, 3.72236484e-37, 2.70708230e-37, 2.04197926e-37,\n",
       "        1.58548951e-37, 1.26030839e-37]))"
      ]
     },
     "execution_count": 20,
     "metadata": {},
     "output_type": "execute_result"
    }
   ],
   "source": [
    "def Omega_gw_func(f):\n",
    "    return 1e-6 * f **(5)\n",
    "\n",
    "angular_fluc(Omega_gw_func,0.5,0.5,1e-9,70)"
   ]
  }
 ],
 "metadata": {
  "kernelspec": {
   "display_name": "GW-env",
   "language": "python",
   "name": "python3"
  },
  "language_info": {
   "codemirror_mode": {
    "name": "ipython",
    "version": 3
   },
   "file_extension": ".py",
   "mimetype": "text/x-python",
   "name": "python",
   "nbconvert_exporter": "python",
   "pygments_lexer": "ipython3",
   "version": "3.10.11"
  },
  "orig_nbformat": 4
 },
 "nbformat": 4,
 "nbformat_minor": 2
}
