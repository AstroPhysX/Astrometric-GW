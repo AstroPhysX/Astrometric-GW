{
 "cells": [
  {
   "cell_type": "code",
   "execution_count": 1,
   "metadata": {},
   "outputs": [],
   "source": [
    "import numpy as np\n",
    "import sympy as sp"
   ]
  },
  {
   "cell_type": "code",
   "execution_count": 2,
   "metadata": {},
   "outputs": [],
   "source": [
    "def Omega_gw_func(f):\n",
    "    return 1e-6 * f **(5)"
   ]
  },
  {
   "cell_type": "code",
   "execution_count": 3,
   "metadata": {},
   "outputs": [],
   "source": [
    "def angular_fluc(Omega_gw, gE,gB, frequency, HubbleConstant):\n",
    "    H=HubbleConstant/3.08567758128e+19\n",
    "    print(\"Hubble Constant in 1/s:\", H)\n",
    "    f=sp.Symbol('f')\n",
    "    \n",
    "    alpha = np.array([0.833333, 0.116667, 0.03, 0.0104762, 0.00442177, 0.00212585, 0.00112434, 0.000639731, 0.000385675, 0.000243696])\n",
    "    \n",
    "    def sigma(freq): #Defining sigma or the power distro in frequency f\n",
    "        integral=sp.integrate((f**-3) * Omega_gw(f),f)\n",
    "        sigma_val=(Omega_gw(freq) * freq**-2) * (integral.subs(f,freq))**-1\n",
    "        print(\"Sigma:\", sigma_val)\n",
    "        return float(sigma_val)\n",
    "        \n",
    "    \n",
    "    def theta_rms(freq): #Defining theta RMS which is the total power in angular fluctuations\n",
    "        integral=sp.integrate((f**-3)*(H**2 * Omega_gw(f)),f)\n",
    "        theta_rms_square=float(((4 * np.pi**2)**-1) * integral.subs(f,freq))\n",
    "        print(\"Theta rms:\", np.sqrt(theta_rms_square))\n",
    "        return np.sqrt(theta_rms_square)\n",
    "    \n",
    "    #Calculating the numerical value for sigma and theta_rms given the frequency\n",
    "    sigma_val=sigma(frequency)\n",
    "    theta_rms_val=theta_rms(frequency)\n",
    "    \n",
    "    theta_E=np.sqrt(theta_rms_val**2 * gE * sigma_val * alpha)\n",
    "    theta_B=np.sqrt(theta_rms_val**2 * gB * sigma_val * alpha)\n",
    "    return theta_E , theta_B"
   ]
  },
  {
   "cell_type": "code",
   "execution_count": 4,
   "metadata": {},
   "outputs": [
    {
     "name": "stdout",
     "output_type": "stream",
     "text": [
      "Hubble Constant in 1/s: 2.2685455027664497e-18\n",
      "Sigma: 3.00000000000000\n",
      "Theta rms: 6.591845185977466e-36\n"
     ]
    },
    {
     "data": {
      "text/plain": [
       "(array([7.36990549e-36, 2.75757062e-36, 1.39834153e-36, 8.26331901e-37,\n",
       "        5.36847213e-37, 3.72236484e-37, 2.70708230e-37, 2.04197926e-37,\n",
       "        1.58548951e-37, 1.26030839e-37]),\n",
       " array([7.36990549e-36, 2.75757062e-36, 1.39834153e-36, 8.26331901e-37,\n",
       "        5.36847213e-37, 3.72236484e-37, 2.70708230e-37, 2.04197926e-37,\n",
       "        1.58548951e-37, 1.26030839e-37]))"
      ]
     },
     "execution_count": 4,
     "metadata": {},
     "output_type": "execute_result"
    }
   ],
   "source": [
    "angular_fluc(Omega_gw_func,0.5,0.5,1e-9,70)"
   ]
  },
  {
   "cell_type": "code",
   "execution_count": 11,
   "metadata": {},
   "outputs": [],
   "source": [
    "def angular_fluc_vel(Omega_gw, gE,gB, frequency, HubbleConstant):\n",
    "    H=HubbleConstant/3.08567758128e+19\n",
    "    print(\"Hubble Constant in 1/s:\", H)\n",
    "    f=sp.Symbol('f')\n",
    "    \n",
    "    alpha = np.array([0.833333, 0.116667, 0.03, 0.0104762, 0.00442177, 0.00212585, 0.00112434, 0.000639731, 0.000385675, 0.000243696])\n",
    "    \n",
    "    def sigma(freq): #Defining sigma or the power distro in frequency f\n",
    "        integral=sp.integrate((f**-3) * Omega_gw(f),f)\n",
    "        sigma_val=(Omega_gw(freq) * freq**-2) * (integral.subs(f,freq))**-1\n",
    "        print(\"Sigma:\", sigma_val)\n",
    "        return float(sigma_val)\n",
    "    \n",
    "    def theta_rms_dot(freq):\n",
    "        integral=sp.integrate((f**-1) * (H**2) * (Omega_gw(f)), f)\n",
    "        theta_rms_dot_square=integral.subs(f,freq)\n",
    "        print(theta_rms_dot_square)\n",
    "        print(\"Theta rms:\", np.sqrt(theta_rms_dot_square))\n",
    "        return np.sqrt(theta_rms_dot_square)\n",
    "    \n",
    "    #Calculating the numerical value for sigma and theta_rms given the frequency\n",
    "    sigma_val=sigma(frequency)\n",
    "    theta_rms_dot_val=theta_rms_dot(frequency)\n",
    "    \n",
    "    theta_E_dot=np.sqrt(theta_rms_dot_val**2 * gE * sigma_val * alpha)\n",
    "    theta_B_dot=np.sqrt(theta_rms_dot_val**2 * gB * sigma_val * alpha)\n",
    "    return theta_E_dot , theta_B_dot\n",
    "        "
   ]
  },
  {
   "cell_type": "code",
   "execution_count": 12,
   "metadata": {},
   "outputs": [
    {
     "name": "stdout",
     "output_type": "stream",
     "text": [
      "Hubble Constant in 1/s: 2.2685455027664497e-18\n",
      "Sigma: 3.00000000000000\n",
      "1.02925973962438e-87\n"
     ]
    },
    {
     "ename": "TypeError",
     "evalue": "loop of ufunc does not support argument 0 of type Float which has no callable sqrt method",
     "output_type": "error",
     "traceback": [
      "\u001b[1;31m---------------------------------------------------------------------------\u001b[0m",
      "\u001b[1;31mAttributeError\u001b[0m                            Traceback (most recent call last)",
      "\u001b[1;31mAttributeError\u001b[0m: 'Float' object has no attribute 'sqrt'",
      "\nThe above exception was the direct cause of the following exception:\n",
      "\u001b[1;31mTypeError\u001b[0m                                 Traceback (most recent call last)",
      "Cell \u001b[1;32mIn[12], line 1\u001b[0m\n\u001b[1;32m----> 1\u001b[0m angular_fluc_vel(Omega_gw_func,\u001b[39m0.5\u001b[39;49m,\u001b[39m0.5\u001b[39;49m,\u001b[39m1e-9\u001b[39;49m,\u001b[39m70\u001b[39;49m)\n",
      "Cell \u001b[1;32mIn[11], line 23\u001b[0m, in \u001b[0;36mangular_fluc_vel\u001b[1;34m(Omega_gw, gE, gB, frequency, HubbleConstant)\u001b[0m\n\u001b[0;32m     21\u001b[0m \u001b[39m#Calculating the numerical value for sigma and theta_rms given the frequency\u001b[39;00m\n\u001b[0;32m     22\u001b[0m sigma_val\u001b[39m=\u001b[39msigma(frequency)\n\u001b[1;32m---> 23\u001b[0m theta_rms_dot_val\u001b[39m=\u001b[39mtheta_rms_dot(frequency)\n\u001b[0;32m     25\u001b[0m theta_E_dot\u001b[39m=\u001b[39mnp\u001b[39m.\u001b[39msqrt(theta_rms_dot_val\u001b[39m*\u001b[39m\u001b[39m*\u001b[39m\u001b[39m2\u001b[39m \u001b[39m*\u001b[39m gE \u001b[39m*\u001b[39m sigma_val \u001b[39m*\u001b[39m alpha)\n\u001b[0;32m     26\u001b[0m theta_B_dot\u001b[39m=\u001b[39mnp\u001b[39m.\u001b[39msqrt(theta_rms_dot_val\u001b[39m*\u001b[39m\u001b[39m*\u001b[39m\u001b[39m2\u001b[39m \u001b[39m*\u001b[39m gB \u001b[39m*\u001b[39m sigma_val \u001b[39m*\u001b[39m alpha)\n",
      "Cell \u001b[1;32mIn[11], line 18\u001b[0m, in \u001b[0;36mangular_fluc_vel.<locals>.theta_rms_dot\u001b[1;34m(freq)\u001b[0m\n\u001b[0;32m     16\u001b[0m theta_rms_dot_square\u001b[39m=\u001b[39mintegral\u001b[39m.\u001b[39msubs(f,freq)\n\u001b[0;32m     17\u001b[0m \u001b[39mprint\u001b[39m(theta_rms_dot_square)\n\u001b[1;32m---> 18\u001b[0m \u001b[39mprint\u001b[39m(\u001b[39m\"\u001b[39m\u001b[39mTheta rms:\u001b[39m\u001b[39m\"\u001b[39m, np\u001b[39m.\u001b[39;49msqrt(theta_rms_dot_square))\n\u001b[0;32m     19\u001b[0m \u001b[39mreturn\u001b[39;00m np\u001b[39m.\u001b[39msqrt(theta_rms_dot_square)\n",
      "\u001b[1;31mTypeError\u001b[0m: loop of ufunc does not support argument 0 of type Float which has no callable sqrt method"
     ]
    }
   ],
   "source": [
    "angular_fluc_vel(Omega_gw_func,0.5,0.5,1e-9,70)"
   ]
  }
 ],
 "metadata": {
  "kernelspec": {
   "display_name": "GW-env",
   "language": "python",
   "name": "python3"
  },
  "language_info": {
   "codemirror_mode": {
    "name": "ipython",
    "version": 3
   },
   "file_extension": ".py",
   "mimetype": "text/x-python",
   "name": "python",
   "nbconvert_exporter": "python",
   "pygments_lexer": "ipython3",
   "version": "3.10.11"
  },
  "orig_nbformat": 4
 },
 "nbformat": 4,
 "nbformat_minor": 2
}
