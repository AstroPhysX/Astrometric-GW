{
 "cells": [
  {
   "cell_type": "code",
   "execution_count": 1,
   "metadata": {},
   "outputs": [],
   "source": [
    "import numpy as np\n",
    "import sympy as sp"
   ]
  },
  {
   "cell_type": "code",
   "execution_count": 13,
   "metadata": {},
   "outputs": [],
   "source": [
    "#Old version withOUT ref frequency\n",
    "def Omega_gw_func(f):\n",
    "    return 1e-6 * (f) **(5)"
   ]
  },
  {
   "cell_type": "code",
   "execution_count": 2,
   "metadata": {},
   "outputs": [],
   "source": [
    "\n",
    "def Omega_gw_func(f, f0):\n",
    "    return 1e-6 * (f/f0) **(3)"
   ]
  },
  {
   "cell_type": "code",
   "execution_count": 14,
   "metadata": {},
   "outputs": [],
   "source": [
    "#Old version: No refrence freq\n",
    "def angular_fluc(Omega_gw, gE,gB, frequency, HubbleConstant):\n",
    "    H=HubbleConstant/3.08567758128e+19\n",
    "    print(\"Hubble Constant in 1/s:\", H)\n",
    "    f=sp.Symbol('f')\n",
    "    \n",
    "    alpha = np.array([0.833333, 0.116667, 0.03, 0.0104762, 0.00442177, 0.00212585, 0.00112434, 0.000639731, 0.000385675, 0.000243696])\n",
    "    \n",
    "    def sigma(freq): #Defining sigma or the power distro in frequency f\n",
    "        integral=sp.integrate((f**-3) * Omega_gw(f),f)\n",
    "        sigma_val=(Omega_gw(freq) * freq**-2) * (integral.subs(f,freq))**-1\n",
    "        print(\"Sigma:\", sigma_val)\n",
    "        return float(sigma_val)\n",
    "        \n",
    "    \n",
    "    def theta_rms(freq): #Defining theta RMS which is the total power in angular fluctuations\n",
    "        integral=sp.integrate((f**-3)*(H**2 * Omega_gw(f)),f)\n",
    "        theta_rms_square=float(((4 * np.pi**2)**-1) * integral.subs(f,freq))\n",
    "        print(\"Theta rms:\", np.sqrt(theta_rms_square))\n",
    "        return np.sqrt(theta_rms_square)\n",
    "    \n",
    "    #Calculating the numerical value for sigma and theta_rms given the frequency\n",
    "    sigma_val=sigma(frequency)\n",
    "    theta_rms_val=theta_rms(frequency)\n",
    "    \n",
    "    theta_E=np.sqrt(theta_rms_val**2 * gE * sigma_val * alpha)\n",
    "    theta_B=np.sqrt(theta_rms_val**2 * gB * sigma_val * alpha)\n",
    "    return theta_E , theta_B"
   ]
  },
  {
   "cell_type": "code",
   "execution_count": 12,
   "metadata": {},
   "outputs": [],
   "source": [
    "def angular_fluc(Omega_gw, gE,gB, frequency, ref_freq, HubbleConstant):\n",
    "    H=HubbleConstant/3.08567758128e+19\n",
    "    print(\"Hubble Constant in 1/s:\", H)\n",
    "    f=sp.Symbol('f')\n",
    "    f0=ref_freq\n",
    "    \n",
    "    alpha = np.array([0.833333, 0.116667, 0.03, 0.0104762, 0.00442177, 0.00212585, 0.00112434, 0.000639731, 0.000385675, 0.000243696])\n",
    "    \n",
    "    if isinstance(frequency, list) and len(frequency) ==1 or isinstance(frequency, float):\n",
    "        if isinstance(frequency, list):\n",
    "            frequency=frequency[0]\n",
    "        \n",
    "        if frequency<0:\n",
    "            Max_freq=0\n",
    "            Min_freq=frequency\n",
    "        else:\n",
    "            Max_freq=frequency\n",
    "            Min_freq=0\n",
    "            \n",
    "    else:\n",
    "        Max_freq=np.amax(frequency)\n",
    "        Min_freq=np.amin(frequency)\n",
    "    \n",
    "        \n",
    "    #Defining sigma or the power distro in frequency f\n",
    "    def sigma(Max_freq,Min_freq): \n",
    "        integral=sp.integrate((f**-3) * Omega_gw(f,f0), (f, Min_freq, Max_freq)) #<----changed with ref freq\n",
    "        sigma_val=(Omega_gw(f, f0) * f**-2) * (integral)**-1\n",
    "        print(\"Sigma:\", sigma_val)\n",
    "        return sigma_val\n",
    "        \n",
    "    #Defining theta RMS which is the total power in angular fluctuations\n",
    "    def theta_rms(Max_freq, Min_freq): \n",
    "        integral=sp.integrate((f**-3)*(H**2 * Omega_gw(f,f0)),(f, Min_freq, Max_freq)) #<----changed with ref freq\n",
    "        theta_rms_square=((4 * np.pi**2)**-1) * integral\n",
    "        print(\"Theta rms square:\", theta_rms_square)\n",
    "        return theta_rms_square    \n",
    "        \n",
    "    #should theta E and theta B be a function of f. Should we plug in a value for f? if so do we use ref?\n",
    "    \n",
    "    \n",
    "    #Calculating the numerical value for sigma and theta_rms given the frequency\n",
    "    sigma_val=sigma(Max_freq,Min_freq)\n",
    "    theta_rms_val_square=theta_rms(Max_freq,Min_freq)\n",
    "    \n",
    "    theta_E_square=theta_rms_val_square * gE * sigma_val * alpha\n",
    "    theta_B_square=theta_rms_val_square * gB * sigma_val * alpha\n",
    "    return theta_E_square , theta_B_square"
   ]
  },
  {
   "cell_type": "code",
   "execution_count": 15,
   "metadata": {},
   "outputs": [
    {
     "name": "stdout",
     "output_type": "stream",
     "text": [
      "Hubble Constant in 1/s: 2.2685455027664497e-18\n",
      "Sigma: 3.00000000000000\n",
      "Theta rms: 6.591845185977466e-36\n"
     ]
    },
    {
     "data": {
      "text/plain": [
       "(array([7.36990549e-36, 2.75757062e-36, 1.39834153e-36, 8.26331901e-37,\n",
       "        5.36847213e-37, 3.72236484e-37, 2.70708230e-37, 2.04197926e-37,\n",
       "        1.58548951e-37, 1.26030839e-37]),\n",
       " array([7.36990549e-36, 2.75757062e-36, 1.39834153e-36, 8.26331901e-37,\n",
       "        5.36847213e-37, 3.72236484e-37, 2.70708230e-37, 2.04197926e-37,\n",
       "        1.58548951e-37, 1.26030839e-37]))"
      ]
     },
     "execution_count": 15,
     "metadata": {},
     "output_type": "execute_result"
    }
   ],
   "source": [
    "#Old version: No ref freq\n",
    "angular_fluc(Omega_gw_func,0.5,0.5,1e-9,70)"
   ]
  },
  {
   "cell_type": "code",
   "execution_count": 14,
   "metadata": {},
   "outputs": [
    {
     "name": "stdout",
     "output_type": "stream",
     "text": [
      "Hubble Constant in 1/s: 2.2685455027664497e-18\n",
      "1e-09 0\n",
      "Sigma: 1000000000.0*f\n",
      "Theta rms: 1.30357268867683e-25\n"
     ]
    },
    {
     "data": {
      "text/plain": [
       "(array([5.43155069686563e-17*f, 7.60419574349297e-18*f,\n",
       "        1.95535903301524e-18*f, 6.82824410055809e-19*f,\n",
       "        2.88204930380527e-19*f, 1.38560000011182e-19*f,\n",
       "        7.32829458393452e-20*f, 4.16967929849958e-20*f,\n",
       "        2.51377698352718e-20*f, 1.58837724969894e-20*f], dtype=object),\n",
       " array([5.43155069686563e-17*f, 7.60419574349297e-18*f,\n",
       "        1.95535903301524e-18*f, 6.82824410055809e-19*f,\n",
       "        2.88204930380527e-19*f, 1.38560000011182e-19*f,\n",
       "        7.32829458393452e-20*f, 4.16967929849958e-20*f,\n",
       "        2.51377698352718e-20*f, 1.58837724969894e-20*f], dtype=object))"
      ]
     },
     "execution_count": 14,
     "metadata": {},
     "output_type": "execute_result"
    }
   ],
   "source": [
    "angular_fluc(Omega_gw_func,0.5,0.5,[1e-9],1e-9,70)"
   ]
  },
  {
   "cell_type": "code",
   "execution_count": 11,
   "metadata": {},
   "outputs": [],
   "source": [
    "#Old Angular fluc velocity\n",
    "def angular_fluc_vel(Omega_gw, gE,gB, frequency, HubbleConstant):\n",
    "    H=HubbleConstant/3.08567758128e+19\n",
    "    print(\"Hubble Constant in 1/s:\", H)\n",
    "    f=sp.Symbol('f')\n",
    "    \n",
    "    alpha = np.array([0.833333, 0.116667, 0.03, 0.0104762, 0.00442177, 0.00212585, 0.00112434, 0.000639731, 0.000385675, 0.000243696])\n",
    "    \n",
    "    \n",
    "    def sigma(freq): #Defining sigma or the power distro in frequency f\n",
    "        integral=sp.integrate((f**-3) * Omega_gw(f),f)\n",
    "        sigma_val=(Omega_gw(freq) * freq**-2) * (integral.subs(f,freq))**-1\n",
    "        print(\"Sigma:\", sigma_val)\n",
    "        return float(sigma_val)\n",
    "    \n",
    "    def theta_rms_dot(freq):\n",
    "        integral=sp.integrate((f**-1) * (H**2) * (Omega_gw(f)), f)\n",
    "        theta_rms_dot_square=integral.subs(f,freq)\n",
    "        print(theta_rms_dot_square)\n",
    "        print(\"Theta rms:\", np.sqrt(theta_rms_dot_square))\n",
    "        return np.sqrt(theta_rms_dot_square)\n",
    "    \n",
    "    #Calculating the numerical value for sigma and theta_rms given the frequency\n",
    "    sigma_val=sigma(frequency)\n",
    "    theta_rms_dot_val=theta_rms_dot(frequency)\n",
    "    \n",
    "    theta_E_dot=np.sqrt(theta_rms_dot_val**2 * gE * sigma_val * alpha)\n",
    "    theta_B_dot=np.sqrt(theta_rms_dot_val**2 * gB * sigma_val * alpha)\n",
    "    return theta_E_dot , theta_B_dot\n",
    "        "
   ]
  },
  {
   "cell_type": "code",
   "execution_count": 15,
   "metadata": {},
   "outputs": [],
   "source": [
    "def angular_fluc_vel(Omega_gw, gE, gB, frequency, ref_freq, HubbleConstant):\n",
    "    H=HubbleConstant/3.08567758128e+19\n",
    "    print(\"Hubble Constant in 1/s:\", H)\n",
    "    f=sp.Symbol('f')\n",
    "    f0=ref_freq\n",
    "    alpha = np.array([0.833333, 0.116667, 0.03, 0.0104762, 0.00442177, 0.00212585, 0.00112434, 0.000639731, 0.000385675, 0.000243696])\n",
    "    \n",
    "    if isinstance(frequency, list) and len(frequency) ==1 or isinstance(frequency, float):\n",
    "        if isinstance(frequency, list):\n",
    "            frequency=frequency[0]\n",
    "        \n",
    "        if frequency<0:\n",
    "            Max_freq=0\n",
    "            Min_freq=frequency\n",
    "        else:\n",
    "            Max_freq=frequency\n",
    "            Min_freq=0\n",
    "            \n",
    "    else:\n",
    "        Max_freq=np.amax(frequency)\n",
    "        Min_freq=np.amin(frequency)\n",
    "\n",
    "    def sigma(Max_freq,Min_freq): \n",
    "        integral=sp.integrate((f**-3) * Omega_gw(f,f0), (f, Min_freq, Max_freq)) #<----changed with ref freq\n",
    "        sigma_val=(Omega_gw(f, f0) * f**-2) * (integral)**-1\n",
    "        print(\"Sigma:\", sigma_val)\n",
    "        return sigma_val\n",
    "    \n",
    "    def theta_rms_dot(Max_freq, Min_freq):\n",
    "        integral=sp.integrate((f**-1) * (H**2) * (Omega_gw(f,f0)), (f,Min_freq,Max_freq))\n",
    "        theta_rms_dot_square=integral\n",
    "        print(\"Theta rms square:\", theta_rms_dot_square)\n",
    "        return theta_rms_dot_square\n",
    "    \n",
    "    #Calculating the numerical value for sigma and theta_rms given the frequency\n",
    "    sigma_val=sigma(Max_freq, Min_freq)\n",
    "    theta_rms_dot_val_square=theta_rms_dot(Max_freq, Min_freq)\n",
    "    \n",
    "    theta_E_dot_square=theta_rms_dot_val_square * gE * sigma_val * alpha\n",
    "    theta_B_dot_square=theta_rms_dot_val_square * gB * sigma_val * alpha\n",
    "    return theta_E_dot_square , theta_B_dot_square"
   ]
  },
  {
   "cell_type": "code",
   "execution_count": 16,
   "metadata": {},
   "outputs": [
    {
     "name": "stdout",
     "output_type": "stream",
     "text": [
      "Hubble Constant in 1/s: 2.2685455027664497e-18\n",
      "Sigma: 1000000000.0*f\n",
      "Theta rms square: 1.71543289937396e-42\n"
     ]
    },
    {
     "data": {
      "text/plain": [
       "(array([7.14763422167001e-34*f, 1.00067205035631e-34*f,\n",
       "        2.57314934906094e-35*f, 8.98560907021074e-36*f,\n",
       "        3.7926248657324e-36*f, 1.82337651456707e-36*f,\n",
       "        9.6436491304106e-37*f, 5.48707802074702e-37*f,\n",
       "        3.30799791733026e-37*f, 2.09022067922918e-37*f], dtype=object),\n",
       " array([7.14763422167001e-34*f, 1.00067205035631e-34*f,\n",
       "        2.57314934906094e-35*f, 8.98560907021074e-36*f,\n",
       "        3.7926248657324e-36*f, 1.82337651456707e-36*f,\n",
       "        9.6436491304106e-37*f, 5.48707802074702e-37*f,\n",
       "        3.30799791733026e-37*f, 2.09022067922918e-37*f], dtype=object))"
      ]
     },
     "execution_count": 16,
     "metadata": {},
     "output_type": "execute_result"
    }
   ],
   "source": [
    "angular_fluc_vel(Omega_gw_func,0.5,0.5,1e-9,1e-9,70)"
   ]
  }
 ],
 "metadata": {
  "kernelspec": {
   "display_name": "GW-env",
   "language": "python",
   "name": "python3"
  },
  "language_info": {
   "codemirror_mode": {
    "name": "ipython",
    "version": 3
   },
   "file_extension": ".py",
   "mimetype": "text/x-python",
   "name": "python",
   "nbconvert_exporter": "python",
   "pygments_lexer": "ipython3",
   "version": "3.10.11"
  },
  "orig_nbformat": 4
 },
 "nbformat": 4,
 "nbformat_minor": 2
}
